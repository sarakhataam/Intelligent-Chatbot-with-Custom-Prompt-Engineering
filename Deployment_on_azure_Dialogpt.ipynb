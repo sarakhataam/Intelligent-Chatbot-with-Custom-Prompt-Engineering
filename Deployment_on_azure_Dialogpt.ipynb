{
  "cells": [
    {
      "cell_type": "markdown",
      "source": [
        "**Importing the dependencies**"
      ],
      "metadata": {},
      "id": "89c12076-adb4-463a-911f-d5fa29327f90"
    },
    {
      "cell_type": "code",
      "source": [
        "import os\n",
        "import json\n",
        "import requests\n",
        "import azureml.core\n",
        "from azureml.core import Workspace\n",
        "from azureml.core.model import Model\n",
        "from azureml.core.environment import Environment\n",
        "from azureml.core.conda_dependencies import CondaDependencies\n",
        "from azureml.core.model import InferenceConfig\n",
        "from azureml.core.webservice import AciWebservice, Webservice\n",
        "from azureml.core.authentication import AzureCliAuthentication"
      ],
      "outputs": [],
      "execution_count": 1,
      "metadata": {
        "execution": {
          "iopub.status.busy": "2024-11-03T11:27:13.277223Z",
          "iopub.execute_input": "2024-11-03T11:27:13.277694Z",
          "iopub.status.idle": "2024-11-03T11:27:13.284740Z",
          "shell.execute_reply.started": "2024-11-03T11:27:13.277650Z",
          "shell.execute_reply": "2024-11-03T11:27:13.283385Z"
        },
        "trusted": true,
        "gather": {
          "logged": 1731058242230
        }
      },
      "id": "5e18370a-7ad3-4af5-aa70-216096a3a3a2"
    },
    {
      "cell_type": "markdown",
      "source": [
        "**Create a Resource Group from Azure Portal**"
      ],
      "metadata": {},
      "id": "a91a7b09-cf43-4993-806d-b633da3b3642"
    },
    {
      "cell_type": "code",
      "source": [
        "cli_auth = AzureCliAuthentication()\n",
        "ws = Workspace.from_config(auth=cli_auth)"
      ],
      "outputs": [],
      "execution_count": 2,
      "metadata": {
        "execution": {
          "iopub.status.busy": "2024-11-03T11:44:37.174260Z",
          "iopub.status.idle": "2024-11-03T11:44:37.174808Z",
          "shell.execute_reply.started": "2024-11-03T11:44:37.174570Z",
          "shell.execute_reply": "2024-11-03T11:44:37.174595Z"
        },
        "trusted": true,
        "gather": {
          "logged": 1731058245902
        }
      },
      "id": "6ca7b897-7de8-4baf-932c-7604b844c939"
    },
    {
      "cell_type": "code",
      "source": [
        "ws.get_details()"
      ],
      "outputs": [
        {
          "output_type": "execute_result",
          "execution_count": 3,
          "data": {
            "text/plain": "{'id': '/subscriptions/682339fd-134e-4b0f-adf5-5e65f349ff43/resourceGroups/deployy/providers/Microsoft.MachineLearningServices/workspaces/deployy',\n 'name': 'deployy',\n 'identity': {'principal_id': '8b9dabe3-f047-4e8b-b461-8978530347cb',\n  'tenant_id': '0bc92751-071a-4e2c-a48b-633206fef374',\n  'type': 'SystemAssigned'},\n 'location': 'eastus2',\n 'type': 'Microsoft.MachineLearningServices/workspaces',\n 'tags': {},\n 'sku': 'Basic',\n 'workspaceid': '46af1613-1211-45ef-aede-1b07b4b82e41',\n 'sdkTelemetryAppInsightsKey': 'e1f7b545-6243-4abf-ba76-c5691d2edb62',\n 'description': '',\n 'friendlyName': 'deployy',\n 'creationTime': '2024-11-06T23:10:21.4274258Z',\n 'containerRegistry': '/subscriptions/682339fd-134e-4b0f-adf5-5e65f349ff43/resourceGroups/deployy/providers/Microsoft.ContainerRegistry/registries/46af1613121145efaede1b07b4b82e41',\n 'keyVault': '/subscriptions/682339fd-134e-4b0f-adf5-5e65f349ff43/resourceGroups/deployy/providers/Microsoft.Keyvault/vaults/deployy9788750305',\n 'applicationInsights': '/subscriptions/682339fd-134e-4b0f-adf5-5e65f349ff43/resourceGroups/deployy/providers/Microsoft.insights/components/deployy1740324412',\n 'storageAccount': '/subscriptions/682339fd-134e-4b0f-adf5-5e65f349ff43/resourceGroups/deployy/providers/Microsoft.Storage/storageAccounts/deployy1014533338',\n 'hbiWorkspace': False,\n 'provisioningState': 'Succeeded',\n 'discoveryUrl': 'https://eastus2.api.azureml.ms/discovery',\n 'notebookInfo': {'fqdn': 'ml-deployy-eastus2-46af1613-1211-45ef-aede-1b07b4b82e41.eastus2.notebooks.azure.net',\n  'resource_id': '2aa230814ca54555b2d207e14faefd8e'},\n 'v1LegacyMode': False}"
          },
          "metadata": {}
        }
      ],
      "execution_count": 3,
      "metadata": {
        "gather": {
          "logged": 1731058250757
        }
      },
      "id": "c029acd2-d9c2-4f7f-9400-395b0541485f"
    },
    {
      "cell_type": "code",
      "source": [
        "!pip install azure-storage-blob"
      ],
      "outputs": [
        {
          "output_type": "stream",
          "name": "stdout",
          "text": "Requirement already satisfied: azure-storage-blob in /anaconda/envs/azureml_py38/lib/python3.10/site-packages (12.13.0)\nRequirement already satisfied: cryptography>=2.1.4 in /anaconda/envs/azureml_py38/lib/python3.10/site-packages (from azure-storage-blob) (38.0.4)\nRequirement already satisfied: msrest>=0.6.21 in /anaconda/envs/azureml_py38/lib/python3.10/site-packages (from azure-storage-blob) (0.7.1)\nRequirement already satisfied: azure-core<2.0.0,>=1.23.1 in /anaconda/envs/azureml_py38/lib/python3.10/site-packages (from azure-storage-blob) (1.30.2)\nRequirement already satisfied: requests>=2.21.0 in /anaconda/envs/azureml_py38/lib/python3.10/site-packages (from azure-core<2.0.0,>=1.23.1->azure-storage-blob) (2.25.1)\nRequirement already satisfied: six>=1.11.0 in /anaconda/envs/azureml_py38/lib/python3.10/site-packages (from azure-core<2.0.0,>=1.23.1->azure-storage-blob) (1.16.0)\nRequirement already satisfied: typing-extensions>=4.6.0 in /anaconda/envs/azureml_py38/lib/python3.10/site-packages (from azure-core<2.0.0,>=1.23.1->azure-storage-blob) (4.12.2)\nRequirement already satisfied: cffi>=1.12 in /anaconda/envs/azureml_py38/lib/python3.10/site-packages (from cryptography>=2.1.4->azure-storage-blob) (1.16.0)\nRequirement already satisfied: certifi>=2017.4.17 in /anaconda/envs/azureml_py38/lib/python3.10/site-packages (from msrest>=0.6.21->azure-storage-blob) (2024.8.30)\nRequirement already satisfied: isodate>=0.6.0 in /anaconda/envs/azureml_py38/lib/python3.10/site-packages (from msrest>=0.6.21->azure-storage-blob) (0.6.1)\nRequirement already satisfied: requests-oauthlib>=0.5.0 in /anaconda/envs/azureml_py38/lib/python3.10/site-packages (from msrest>=0.6.21->azure-storage-blob) (2.0.0)\nRequirement already satisfied: pycparser in /anaconda/envs/azureml_py38/lib/python3.10/site-packages (from cffi>=1.12->cryptography>=2.1.4->azure-storage-blob) (2.22)\nRequirement already satisfied: urllib3<1.27,>=1.21.1 in /anaconda/envs/azureml_py38/lib/python3.10/site-packages (from requests>=2.21.0->azure-core<2.0.0,>=1.23.1->azure-storage-blob) (1.26.19)\nRequirement already satisfied: idna<3,>=2.5 in /anaconda/envs/azureml_py38/lib/python3.10/site-packages (from requests>=2.21.0->azure-core<2.0.0,>=1.23.1->azure-storage-blob) (2.10)\nRequirement already satisfied: chardet<5,>=3.0.2 in /anaconda/envs/azureml_py38/lib/python3.10/site-packages (from requests>=2.21.0->azure-core<2.0.0,>=1.23.1->azure-storage-blob) (3.0.4)\nRequirement already satisfied: oauthlib>=3.0.0 in /anaconda/envs/azureml_py38/lib/python3.10/site-packages (from requests-oauthlib>=0.5.0->msrest>=0.6.21->azure-storage-blob) (3.2.2)\n"
        }
      ],
      "execution_count": 4,
      "metadata": {
        "jupyter": {
          "source_hidden": false,
          "outputs_hidden": false
        },
        "nteract": {
          "transient": {
            "deleting": false
          }
        }
      },
      "id": "bafdd0f3-7477-4ade-857e-dbf276c5e891"
    },
    {
      "cell_type": "code",
      "source": [
        "storage_account_key = \"ggn3Njd2pcTLEqkzHbGCiKryaOil37GitnAv3gvGX2Ri7KzncwNSWI0bho5jFDVzchKjNtjOCuc2+AStrWpGoA==\"\n",
        "storage_account_name = \"deployy1014533338\""
      ],
      "outputs": [],
      "execution_count": 5,
      "metadata": {
        "jupyter": {
          "source_hidden": false,
          "outputs_hidden": false
        },
        "nteract": {
          "transient": {
            "deleting": false
          }
        },
        "gather": {
          "logged": 1731058263787
        }
      },
      "id": "5b705919-1702-4401-a5d0-889da166f329"
    },
    {
      "cell_type": "code",
      "source": [
        "from azure.storage.blob import BlobServiceClient\n",
        "\n",
        "# Create the connection string using the account name and key\n",
        "connection_string = f\"DefaultEndpointsProtocol=https;AccountName={storage_account_name};AccountKey={storage_account_key};EndpointSuffix=core.windows.net\"\n",
        "\n",
        "# Create a BlobServiceClient using the connection string\n",
        "blob_service_client = BlobServiceClient.from_connection_string(connection_string)\n"
      ],
      "outputs": [],
      "execution_count": 6,
      "metadata": {
        "jupyter": {
          "source_hidden": false,
          "outputs_hidden": false
        },
        "nteract": {
          "transient": {
            "deleting": false
          }
        },
        "gather": {
          "logged": 1731058265503
        }
      },
      "id": "e3726c9f-2603-4078-8715-bb4c47571395"
    },
    {
      "cell_type": "code",
      "source": [
        "model_name='chatbot'"
      ],
      "outputs": [],
      "execution_count": 8,
      "metadata": {
        "gather": {
          "logged": 1731058269077
        }
      },
      "id": "356e74d4-68a0-4873-9067-96148a99f8a6"
    },
    {
      "cell_type": "code",
      "source": [
        "import os  \n",
        "\n",
        "# Get the current working directory  \n",
        "current_directory = os.getcwd()  \n",
        "print(\"Current Working Directory:\", current_directory)  \n",
        "\n",
        "# List all files in the current directory  \n",
        "files = os.listdir(current_directory)  \n",
        "print(\"Files in Current Directory:\", files)"
      ],
      "outputs": [
        {
          "output_type": "stream",
          "name": "stdout",
          "text": "Current Working Directory: /mnt/batch/tasks/shared/LS_root/mounts/clusters/he304042816019012/code/Users/he30404281601901\nFiles in Current Directory: ['.amlignore', '.amlignore.amltmp', '.ipynb_aml_checkpoints', 'deployment (4).ipynb', 'deployment (4).ipynb.amltmp', 'modelpkl.pkl', 'score.py']\n"
        }
      ],
      "execution_count": 9,
      "metadata": {
        "jupyter": {
          "source_hidden": false,
          "outputs_hidden": false
        },
        "nteract": {
          "transient": {
            "deleting": false
          }
        },
        "gather": {
          "logged": 1731058270525
        }
      },
      "id": "4c9a4e9a-d021-4b69-8691-efb7a4e4177e"
    },
    {
      "cell_type": "code",
      "source": [
        "file_name = \"modelpkl.pkl\"  # Replace with your actual file name  \n",
        "file_path = os.path.join(current_directory, file_name)  \n",
        "\n",
        "# Check if the file exists and print the file path  \n",
        "if os.path.isfile(file_path):  \n",
        "    print(\"Full Path to Your File:\", file_path)  \n",
        "else:  \n",
        "    print(\"File not found in the current directory.\") "
      ],
      "outputs": [
        {
          "output_type": "stream",
          "name": "stdout",
          "text": "Full Path to Your File: /mnt/batch/tasks/shared/LS_root/mounts/clusters/he304042816019012/code/Users/he30404281601901/modelpkl.pkl\n"
        }
      ],
      "execution_count": 10,
      "metadata": {
        "jupyter": {
          "source_hidden": false,
          "outputs_hidden": false
        },
        "nteract": {
          "transient": {
            "deleting": false
          }
        },
        "gather": {
          "logged": 1731058271363
        }
      },
      "id": "21d30b6a-f0df-41d7-b4c6-2909739001b6"
    },
    {
      "cell_type": "code",
      "source": [
        "model_path = file_path"
      ],
      "outputs": [],
      "execution_count": 11,
      "metadata": {
        "jupyter": {
          "source_hidden": false,
          "outputs_hidden": false
        },
        "nteract": {
          "transient": {
            "deleting": false
          }
        },
        "gather": {
          "logged": 1731058272386
        }
      },
      "id": "6c0f2a1d-a4cf-410d-b946-f1706a807119"
    },
    {
      "cell_type": "code",
      "source": [
        "# Register the model in Azure Machine Learning\n",
        "registered_model = Model.register(model_path=model_path, model_name=model_name, workspace=ws)\n",
        "print(f\"Registered model: {registered_model.name}, version: {registered_model.version}\")"
      ],
      "outputs": [
        {
          "output_type": "stream",
          "name": "stdout",
          "text": "Registering model chatbot\nRegistered model: chatbot, version: 7\n"
        }
      ],
      "execution_count": 26,
      "metadata": {
        "gather": {
          "logged": 1731059618075
        }
      },
      "id": "63840dd6-24e8-4476-8aa3-bf5916db4f16"
    },
    {
      "cell_type": "code",
      "source": [
        "!pip install azureml-contrib-services "
      ],
      "outputs": [
        {
          "output_type": "stream",
          "name": "stdout",
          "text": "Requirement already satisfied: azureml-contrib-services in /anaconda/envs/azureml_py38/lib/python3.10/site-packages (1.57.0)\r\nRequirement already satisfied: Flask in /anaconda/envs/azureml_py38/lib/python3.10/site-packages (from azureml-contrib-services) (2.3.2)\r\nRequirement already satisfied: blinker>=1.6.2 in /anaconda/envs/azureml_py38/lib/python3.10/site-packages (from Flask->azureml-contrib-services) (1.8.2)\r\nRequirement already satisfied: itsdangerous>=2.1.2 in /anaconda/envs/azureml_py38/lib/python3.10/site-packages (from Flask->azureml-contrib-services) (2.1.2)\r\nRequirement already satisfied: Werkzeug>=2.3.3 in /anaconda/envs/azureml_py38/lib/python3.10/site-packages (from Flask->azureml-contrib-services) (3.0.3)\r\nRequirement already satisfied: click>=8.1.3 in /anaconda/envs/azureml_py38/lib/python3.10/site-packages (from Flask->azureml-contrib-services) (8.1.7)\r\nRequirement already satisfied: Jinja2>=3.1.2 in /anaconda/envs/azureml_py38/lib/python3.10/site-packages (from Flask->azureml-contrib-services) (3.1.4)\r\nRequirement already satisfied: MarkupSafe>=2.0 in /anaconda/envs/azureml_py38/lib/python3.10/site-packages (from Jinja2>=3.1.2->Flask->azureml-contrib-services) (2.1.5)\r\n"
        }
      ],
      "execution_count": 48,
      "metadata": {
        "jupyter": {
          "source_hidden": false,
          "outputs_hidden": false
        },
        "nteract": {
          "transient": {
            "deleting": false
          }
        }
      },
      "id": "5f6ef67f-eab8-488a-917d-5b28436e53a8"
    },
    {
      "cell_type": "code",
      "source": [
        "# Create Custom Environment with Version-Specific Dependencies\n",
        "env = Environment(name=\"custom_ml_environment\")\n",
        "deps = CondaDependencies()\n",
        "\n",
        "# Specify Python version\n",
        "deps.set_python_version(\"3.8\")\n",
        "\n",
        "# Add Conda packages with specific versions for compatibility\n",
        "deps.add_conda_package(\"pandas==1.3.3\")\n",
        "deps.add_conda_package(\"nltk==3.6.3\")\n",
        "deps.add_conda_package(\"scikit-learn==0.24.2\")\n",
        "deps.add_conda_package(\"numpy==1.21.2\")\n",
        "\n",
        "# Add pip packages with specific versions for compatibility\n",
        "deps.add_pip_package(\"datasets\")\n",
        "deps.add_pip_package(\"contractions\")\n",
        "deps.add_pip_package(\"num2words\")\n",
        "deps.add_pip_package(\"evaluate\")\n",
        "deps.add_pip_package(\"torch\")\n",
        "deps.add_pip_package(\"azureml-contrib-services\")\n",
        "deps.add_pip_package(\"transformers\")\n",
        "deps.add_pip_package(\"azureml-defaults\")\n",
        "deps.add_pip_package(\"azureml-core\")  # Recommended for Azure ML resources\n",
        "deps.add_pip_package(\"tokenizers\")\n",
        "env.python.conda_dependencies = deps"
      ],
      "outputs": [],
      "execution_count": 49,
      "metadata": {
        "gather": {
          "logged": 1731062285723
        }
      },
      "id": "3331e3bf-8985-48a2-acb9-b3bef54f14b5"
    },
    {
      "cell_type": "code",
      "source": [
        "# Register the environment\n",
        "env.register(ws)"
      ],
      "outputs": [
        {
          "output_type": "execute_result",
          "execution_count": 50,
          "data": {
            "text/plain": "{\n    \"assetId\": \"azureml://locations/eastus2/workspaces/46af1613-1211-45ef-aede-1b07b4b82e41/environments/custom_ml_environment/versions/3\",\n    \"databricks\": {\n        \"eggLibraries\": [],\n        \"jarLibraries\": [],\n        \"mavenLibraries\": [],\n        \"pypiLibraries\": [],\n        \"rcranLibraries\": []\n    },\n    \"docker\": {\n        \"arguments\": [],\n        \"baseDockerfile\": null,\n        \"baseImage\": \"mcr.microsoft.com/azureml/openmpi4.1.0-ubuntu20.04:20240709.v1\",\n        \"baseImageRegistry\": {\n            \"address\": null,\n            \"password\": null,\n            \"registryIdentity\": null,\n            \"username\": null\n        },\n        \"buildContext\": null,\n        \"enabled\": false,\n        \"platform\": {\n            \"architecture\": \"amd64\",\n            \"os\": \"Linux\"\n        },\n        \"sharedVolumes\": true,\n        \"shmSize\": null\n    },\n    \"environmentVariables\": {\n        \"EXAMPLE_ENV_VAR\": \"EXAMPLE_VALUE\"\n    },\n    \"inferencingStackVersion\": null,\n    \"name\": \"custom_ml_environment\",\n    \"python\": {\n        \"baseCondaEnvironment\": null,\n        \"condaDependencies\": {\n            \"channels\": [\n                \"anaconda\",\n                \"conda-forge\"\n            ],\n            \"dependencies\": [\n                \"python=3.8\",\n                {\n                    \"pip\": [\n                        \"datasets\",\n                        \"contractions\",\n                        \"num2words\",\n                        \"evaluate\",\n                        \"torch\",\n                        \"azureml-contrib-services\",\n                        \"transformers\",\n                        \"azureml-defaults\",\n                        \"azureml-core\",\n                        \"tokenizers\"\n                    ]\n                },\n                \"pandas==1.3.3\",\n                \"nltk==3.6.3\",\n                \"scikit-learn==0.24.2\",\n                \"numpy==1.21.2\"\n            ],\n            \"name\": \"project_environment\"\n        },\n        \"condaDependenciesFile\": null,\n        \"interpreterPath\": \"python\",\n        \"userManagedDependencies\": false\n    },\n    \"r\": null,\n    \"spark\": {\n        \"packages\": [],\n        \"precachePackages\": true,\n        \"repositories\": []\n    },\n    \"version\": \"3\"\n}"
          },
          "metadata": {}
        }
      ],
      "execution_count": 50,
      "metadata": {
        "jupyter": {
          "source_hidden": false,
          "outputs_hidden": false
        },
        "nteract": {
          "transient": {
            "deleting": false
          }
        },
        "gather": {
          "logged": 1731062287810
        }
      },
      "id": "a00741ac-ae07-478d-97e2-ccee91fec58e"
    },
    {
      "cell_type": "code",
      "source": [
        "%%writefile ././score.py\n",
        "import json\n",
        "import torch\n",
        "from azureml.core.model import Model\n",
        "from transformers import AutoModelForCausalLM, AutoTokenizer\n",
        "from azureml.contrib.services.aml_response import AMLResponse\n",
        "\n",
        "# Initialize the model and tokenizer as global variables\n",
        "model = None\n",
        "tokenizer = None\n",
        "\n",
        "def init():\n",
        "    global model\n",
        "    global tokenizer\n",
        "    \n",
        "    try:\n",
        "        # Adjust the workspace parameter if needed and make sure the correct model version is used\n",
        "        model_path = Model.get_model_path(model_name='chatbot',version='7')  # Omit version and workspace here for simplicity\n",
        "        \n",
        "        # Load the tokenizer and model using the path provided by Azure ML\n",
        "        tokenizer = AutoTokenizer.from_pretrained(model_path)\n",
        "        model = AutoModelForCausalLM.from_pretrained(model_path)\n",
        "        \n",
        "        print(\"Model and tokenizer successfully loaded.\")\n",
        "    except Exception as e:\n",
        "        print(f\"Error during model initialization: {e}\")\n",
        "\n",
        "def run(raw_data):\n",
        "    try:\n",
        "        # Parse input data\n",
        "        data = json.loads(raw_data)\n",
        "        input_text = data.get(\"input_text\", \"\")\n",
        "        \n",
        "        if not input_text:\n",
        "            return AMLResponse(\"No input text provided\", status_code=400)\n",
        "        \n",
        "        # Tokenize input text and generate response\n",
        "        inputs = tokenizer(input_text, return_tensors=\"pt\")\n",
        "        outputs = model.generate(inputs[\"input_ids\"], max_length=50)  # max_length adjusted for typical chatbot responses\n",
        "        response_text = tokenizer.decode(outputs[0], skip_special_tokens=True)\n",
        "        \n",
        "        # Return JSON response\n",
        "        return AMLResponse(json.dumps({\"response\": response_text}), status_code=200)\n",
        "    \n",
        "    except Exception as e:\n",
        "        return AMLResponse(f\"Error during inference: {str(e)}\", status_code=500)\n"
      ],
      "outputs": [
        {
          "output_type": "stream",
          "name": "stdout",
          "text": "Overwriting ././score.py\n"
        }
      ],
      "execution_count": 51,
      "metadata": {
        "gather": {
          "logged": 1730808537934
        }
      },
      "id": "ded2223b-bde8-4370-8711-020cd692b143"
    },
    {
      "cell_type": "code",
      "source": [
        "# Create an InferenceConfig\n",
        "inference_config = InferenceConfig(entry_script='score.py', environment=env)"
      ],
      "outputs": [],
      "execution_count": 52,
      "metadata": {
        "gather": {
          "logged": 1731062289667
        }
      },
      "id": "5d8b9f38-3375-4f91-9fde-5f7d90356be8"
    },
    {
      "cell_type": "code",
      "source": [
        "# Specify deployment configuration for ACI\n",
        "aci_config = AciWebservice.deploy_configuration(cpu_cores=1, memory_gb=8, auth_enabled=True)"
      ],
      "outputs": [],
      "execution_count": 53,
      "metadata": {
        "gather": {
          "logged": 1731062291077
        }
      },
      "id": "609b09c0-cbf9-4ffc-8413-49bd3b18a789"
    },
    {
      "cell_type": "code",
      "source": [
        "service = Model.deploy(workspace=ws,\n",
        "                       name='chatbot-service',\n",
        "                       models=[registered_model],\n",
        "                       inference_config=inference_config,\n",
        "                       deployment_config=aci_config)\n",
        "service.wait_for_deployment(show_output=True)"
      ],
      "outputs": [
        {
          "output_type": "stream",
          "name": "stderr",
          "text": "/tmp/ipykernel_3469/3632607535.py:1: FutureWarning: azureml.core.model:\nTo leverage new model deployment capabilities, AzureML recommends using CLI/SDK v2 to deploy models as online endpoint, \nplease refer to respective documentations \nhttps://docs.microsoft.com/azure/machine-learning/how-to-deploy-managed-online-endpoints /\nhttps://docs.microsoft.com/azure/machine-learning/how-to-attach-kubernetes-anywhere \nFor more information on migration, see https://aka.ms/acimoemigration \nTo disable CLI/SDK v1 deprecation warning set AZUREML_LOG_DEPRECATION_WARNING_ENABLED to 'False'\n  service = Model.deploy(workspace=ws,\n"
        },
        {
          "output_type": "stream",
          "name": "stdout",
          "text": "Tips: You can try get_logs(): https://aka.ms/debugimage#dockerlog or local deployment: https://aka.ms/debugimage#debug-locally to debug if deployment takes longer than 10 minutes.\nRunning\n2024-11-08 10:38:33+00:00 Registering the environment.\n2024-11-08 10:38:34+00:00 Building image..\n2024-11-08 10:52:33+00:00 Generating deployment configuration..\n2024-11-08 10:52:35+00:00 Submitting deployment to compute.\n2024-11-08 10:52:40+00:00 Checking the status of deployment chatbot-service..\n2024-11-08 10:57:22+00:00 Checking the status of inference endpoint chatbot-service.\nSucceeded\nACI service creation operation finished, operation \"Succeeded\"\n"
        }
      ],
      "execution_count": 55,
      "metadata": {
        "gather": {
          "logged": 1731063450709
        }
      },
      "id": "35e4b8df-c1b7-4c9c-9ecf-0bd42a4ec70a"
    },
    {
      "cell_type": "code",
      "source": [
        "print(service.get_logs())"
      ],
      "outputs": [
        {
          "output_type": "stream",
          "name": "stdout",
          "text": "None\n"
        }
      ],
      "execution_count": 47,
      "metadata": {
        "jupyter": {
          "source_hidden": false,
          "outputs_hidden": false
        },
        "nteract": {
          "transient": {
            "deleting": false
          }
        },
        "gather": {
          "logged": 1731061497058
        }
      },
      "id": "845c44fc-1fee-445a-a83a-d089b28e1158"
    },
    {
      "cell_type": "code",
      "source": [
        "scoring_uri = service.scoring_uri"
      ],
      "outputs": [],
      "execution_count": 56,
      "metadata": {
        "gather": {
          "logged": 1731063596582
        }
      },
      "id": "caeb369e-7557-4f2b-81f3-866547df3cc5"
    },
    {
      "cell_type": "code",
      "source": [
        "scoring_uri"
      ],
      "outputs": [
        {
          "output_type": "execute_result",
          "execution_count": 57,
          "data": {
            "text/plain": "'http://8877b5ca-e8cc-4c8c-89de-cd70256576f4.eastus2.azurecontainer.io/score'"
          },
          "metadata": {}
        }
      ],
      "execution_count": 57,
      "metadata": {
        "gather": {
          "logged": 1731063601690
        }
      },
      "id": "07bde8e7-40f2-4b94-9cea-a300eee6a3f6"
    },
    {
      "cell_type": "markdown",
      "source": [
        "**Cleaning up all the created resources**"
      ],
      "metadata": {},
      "id": "c2eceac0-3cb8-4415-9cf8-69d331737239"
    },
    {
      "cell_type": "code",
      "source": [
        "\n",
        "service_name = \"chatbot-service\"\n",
        "\n",
        "service = ws.webservices[service_name]\n",
        "service.delete()"
      ],
      "outputs": [
        {
          "output_type": "stream",
          "name": "stdout",
          "text": "Running\n2024-11-08 10:38:18+00:00 Check and wait for operation (b1e5a633-40af-4670-b443-bbd183effe46) to finish.\n2024-11-08 10:38:21+00:00 Deleting service entity.\nSucceeded\n"
        }
      ],
      "execution_count": 54,
      "metadata": {
        "gather": {
          "logged": 1731062304758
        }
      },
      "id": "651518b8-3a0c-47ca-85b1-3fca55f21d58"
    },
    {
      "cell_type": "code",
      "source": [
        "# Specify the name of the registered model to delete\n",
        "'''model_name = 'chatbot'\n",
        "\n",
        "# Delete the model\n",
        "registered_model = ws.models[model_name]\n",
        "registered_model.delete()'''\n"
      ],
      "outputs": [],
      "execution_count": 18,
      "metadata": {},
      "id": "72225e70-e68a-4e76-99c7-d562b9af7c44"
    },
    {
      "cell_type": "code",
      "source": [],
      "outputs": [],
      "execution_count": 19,
      "metadata": {},
      "id": "bfa54997-739a-49b8-a599-0bda309ad88e"
    },
    {
      "cell_type": "code",
      "source": [],
      "outputs": [],
      "execution_count": null,
      "metadata": {},
      "id": "b57f3c33-32de-4205-b1e0-04dbe8e5cb30"
    },
    {
      "cell_type": "code",
      "source": [],
      "outputs": [],
      "execution_count": null,
      "metadata": {},
      "id": "c64df539-ebcb-4edd-afb6-c2ba9cdf4a0e"
    },
    {
      "cell_type": "code",
      "source": [],
      "outputs": [],
      "execution_count": null,
      "metadata": {},
      "id": "59bdb82d-a14d-4b31-a681-3966c041319f"
    },
    {
      "cell_type": "markdown",
      "source": [
        "1. Azure Account with appropriate subscription\n",
        "2. Configuration file that has subscription_id and other details like resource_group name, etc\n",
        "3. Create a resource group from Azure Portal\n",
        "4. Create a workspace\n",
        "5. Register the model in container registry\n",
        "6. Deploy the model as endpoint\n",
        "7. Once done, delete the created resources"
      ],
      "metadata": {},
      "id": "cf979a6d-6325-4813-9be8-97c530da9f87"
    },
    {
      "cell_type": "code",
      "source": [],
      "outputs": [],
      "execution_count": null,
      "metadata": {},
      "id": "5b743b89-17b8-48f9-a24a-6167d9e05896"
    }
  ],
  "metadata": {
    "kernelspec": {
      "name": "python38-azureml-pt-tf",
      "language": "python",
      "display_name": "Python 3.8 - Pytorch and Tensorflow"
    },
    "language_info": {
      "name": "python",
      "version": "3.10.11",
      "mimetype": "text/x-python",
      "codemirror_mode": {
        "name": "ipython",
        "version": 3
      },
      "pygments_lexer": "ipython3",
      "nbconvert_exporter": "python",
      "file_extension": ".py"
    },
    "kaggle": {
      "accelerator": "none",
      "dataSources": [
        {
          "sourceId": 9793894,
          "sourceType": "datasetVersion",
          "datasetId": 6001667
        }
      ],
      "dockerImageVersionId": 30786,
      "isInternetEnabled": true,
      "language": "python",
      "sourceType": "notebook",
      "isGpuEnabled": false
    },
    "microsoft": {
      "ms_spell_check": {
        "ms_spell_check_language": "en"
      },
      "host": {
        "AzureML": {
          "notebookHasBeenCompleted": true
        }
      }
    },
    "kernel_info": {
      "name": "python38-azureml-pt-tf"
    },
    "nteract": {
      "version": "nteract-front-end@1.0.0"
    }
  },
  "nbformat": 4,
  "nbformat_minor": 5
}